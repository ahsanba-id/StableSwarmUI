{
  "nbformat": 4,
  "nbformat_minor": 0,
  "metadata": {
    "colab": {
      "provenance": [],
      "gpuType": "T4"
    },
    "kernelspec": {
      "name": "python3",
      "display_name": "Python 3"
    },
    "language_info": {
      "name": "python"
    },
    "accelerator": "GPU"
  },
  "cells": [
    {
      "cell_type": "markdown",
      "source": [
        "#...::: StableSwarmUI :::...\n",
        "\n",
        "---\n",
        "TIPS USING FREE COLAB:\n",
        "1.   For SDXL, be mindful not to exceed an image resolution of 1024x1024.\n",
        "2.   Avoid using the refiner repeatedly within a short time frame.\n",
        "3.   Minimize resource usage.\n",
        "4.   Responsibly test this Jupyter notebook to prevent Google from banning your account.\n",
        "---"
      ],
      "metadata": {
        "id": "6c3Lu_V9z1I5"
      }
    },
    {
      "cell_type": "markdown",
      "source": [
        "#**▶ ENVIRONMENT**"
      ],
      "metadata": {
        "id": "nxsMqUVLQYqs"
      }
    },
    {
      "cell_type": "code",
      "execution_count": null,
      "metadata": {
        "id": "PrpdSD9rBKgq"
      },
      "outputs": [],
      "source": [
        "!wget --content-disposition --directory-prefix=/content https://github.com/camenduru/gperftools/releases/download/v1.0/libtcmalloc_minimal.so.4\n",
        "%env LD_PRELOAD=/content/libtcmalloc_minimal.so.4\n",
        "!apt update\n",
        "!apt install python3.10-venv\n",
        "!apt install dotnet-sdk-7.0\n",
        "!pip install pytorch-lightning\n",
        "!git clone https://github.com/ahsanba-id/StableSwarmUI /content/StableSwarmUI\n",
        "!wget --content-disposition --directory-prefix=/content/StableSwarmUI https://github.com/cloudflare/cloudflared/releases/latest/download/cloudflared-linux-amd64.deb\n",
        "!dpkg -i /content/StableSwarmUI/cloudflared-linux-amd64.deb\n",
        "!git clone https://github.com/comfyanonymous/ComfyUI /content/StableSwarmUI/dlbackend/ComfyUI\n",
        "!pip install -r /content/StableSwarmUI/dlbackend/ComfyUI/requirements.txt"
      ]
    },
    {
      "cell_type": "markdown",
      "source": [
        "#**▶ MODEL**"
      ],
      "metadata": {
        "id": "iepRSdJiQN_5"
      }
    },
    {
      "cell_type": "code",
      "source": [
        "#SDXL BASE & REFINER\n",
        "#!wget --content-disposition --directory-prefix=/content/StableSwarmUI/Models/Stable-Diffusion/OfficialStableDiffusion https://huggingface.co/webui/sd_xl_base_1.0_vae_fix/blob/main/sd_xl_base_1.0_0.9vae.safetensors\n",
        "#!wget --content-disposition --directory-prefix=/content/StableSwarmUI/Models/Stable-Diffusion/OfficialStableDiffusion https://huggingface.co/webui/sd_xl_base_1.0_vae_fix/blob/main/sd_xl_refiner_1.0_0.9vae.safetensors\n",
        "\n",
        "#DREAMSHAPER XL\n",
        "!wget --content-disposition --directory-prefix=/content/StableSwarmUI/Models/Stable-Diffusion https://civitai.com/api/download/models/126688\n",
        "\n",
        "#SDVN6 DETAIL FACE\n",
        "#!wget --content-disposition --directory-prefix=/content/StableSwarmUI/Models/Stable-Diffusion https://civitai.com/api/download/models/134461\n",
        "\n",
        "#FUDUKI XL\n",
        "#!wget --content-disposition --directory-prefix=/content/StableSwarmUI/Models/Stable-Diffusion https://huggingface.co/Kotajiro/fuduki_mix/resolve/main/fuduki_mix_v10_fp16.safetensors\n",
        "\n",
        "#HADUKI XL\n",
        "#!wget --content-disposition --directory-prefix=/content/StableSwarmUI/Models/Stable-Diffusion https://huggingface.co/Kotajiro/haduki_mix/resolve/main/haduki_mix_v10_FP16.safetensors\n",
        "\n",
        "#GUOFENG 4 XL\n",
        "#!wget --content-disposition --directory-prefix=/content/StableSwarmUI/Models/Stable-Diffusion https://civitai.com/api/download/models/130720\n",
        "\n",
        "#XXMix_9realistic XL\n",
        "#!wget --content-disposition --directory-prefix=/content/StableSwarmUI/Models/Stable-Diffusion https://civitai.com/api/download/models/145282\n",
        "\n",
        "#CHERRY PICKER XL\n",
        "#!wget --content-disposition --directory-prefix=/content/StableSwarmUI/Models/Stable-Diffusion https://civitai.com/api/download/models/143431\n",
        "\n",
        "#GUOFENG4 XL\n",
        "#!wget --content-disposition --directory-prefix=/content/StableSwarmUI/Models/Stable-Diffusion https://civitai.com/api/download/models/130720\n",
        "\n",
        "#BLUE PENCIL XL\n",
        "#!wget --content-disposition --directory-prefix=/content/StableSwarmUI/Models/Stable-Diffusion https://civitai.com/api/download/models/147901\n",
        "\n",
        "#PHOTOVISION XL BAKEDVAE\n",
        "#!wget --content-disposition --directory-prefix=/content/StableSwarmUI/Models/Stable-Diffusion https://civitai.com/api/download/models/144229\n",
        "\n",
        "#DYNAVISION XL BAKEDVAE\n",
        "#!wget --content-disposition --directory-prefix=/content/StableSwarmUI/Models/Stable-Diffusion https://civitai.com/api/download/models/148259\n",
        "\n",
        "#XL13 ASMODEUS\n",
        "#!wget --content-disposition --directory-prefix=/content/StableSwarmUI/Models/Stable-Diffusion https://civitai.com/api/download/models/150490"
      ],
      "metadata": {
        "id": "Bo7SAj7dQFpa"
      },
      "execution_count": null,
      "outputs": []
    },
    {
      "cell_type": "markdown",
      "source": [
        "#**▶ VAE**"
      ],
      "metadata": {
        "id": "MPODDZM3bnQK"
      }
    },
    {
      "cell_type": "code",
      "source": [
        "!wget --content-disposition --directory-prefix=/content/StableSwarmUI/Models/VAE https://huggingface.co/ckpt/sdxl_vae/resolve/main/sdxl_vae.safetensors"
      ],
      "metadata": {
        "id": "T0BhZQG9bhMx"
      },
      "execution_count": null,
      "outputs": []
    },
    {
      "cell_type": "markdown",
      "source": [
        "#**▶ LoRA**"
      ],
      "metadata": {
        "id": "r8DFJuCpW00q"
      }
    },
    {
      "cell_type": "code",
      "source": [
        "#YAE MIKO XL\n",
        "#!wget --content-disposition --directory-prefix=/content/StableSwarmUI/Models/Lora https://civitai.com/api/download/models/150536\n",
        "\n",
        "#AQUA KONOSUBA XL\n",
        "#!wget --content-disposition --directory-prefix=/content/StableSwarmUI/Models/Lora https://civitai.com/api/download/models/151975\n",
        "\n",
        "#OFFSET for SDXL BASE\n",
        "#!wget --content-disposition --directory-prefix=/content/StableSwarmUI/Models/Lora https://huggingface.co/stabilityai/stable-diffusion-xl-base-1.0/resolve/main/sd_xl_offset_example-lora_1.0.safetensors\n"
      ],
      "metadata": {
        "id": "9iRK3NIZW1SN"
      },
      "execution_count": null,
      "outputs": []
    },
    {
      "cell_type": "markdown",
      "source": [
        "#**▶ START**"
      ],
      "metadata": {
        "id": "13AUaZgAQR9J"
      }
    },
    {
      "cell_type": "code",
      "source": [
        "%cd /content/StableSwarmUI/\n",
        "!git pull\n",
        "!bash ./launch-linux.sh --launch_mode none --cloudflared-path cloudflared"
      ],
      "metadata": {
        "id": "yGY6JKe1Dz_B"
      },
      "execution_count": null,
      "outputs": []
    },
    {
      "cell_type": "markdown",
      "source": [
        "\n",
        "#HOW TO USE:\n",
        "1.   Run the cell ▶ ENVIRONMENT.\n",
        "2.   Run the cell ▶ MODEL. You can also customize your own model here.\n",
        "3.   Run the cell ▶ VAE.\n",
        "4.   Run the cell ▶ LoRA if you have your own LoRA. If not, skip this step.\n",
        "5.   Run the cell ▶ START.\n",
        "6.   Wait until quick Tunnel has been created and trycloudflare.com link appears. Grab it!\n",
        "---\n",
        "#⭐ Happy creating art! ⭐\n",
        "---\n",
        "\n",
        "\n",
        "by ahsanba"
      ],
      "metadata": {
        "id": "3I_hqDsaQs5R"
      }
    }
  ]
}
